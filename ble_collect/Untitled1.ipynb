{
 "cells": [
  {
   "cell_type": "code",
   "execution_count": 26,
   "metadata": {},
   "outputs": [],
   "source": [
    "import pandas as pd\n",
    "df=pd.read_csv(\"rejected_data1.csv\")"
   ]
  },
  {
   "cell_type": "code",
   "execution_count": 27,
   "metadata": {},
   "outputs": [
    {
     "data": {
      "text/plain": [
       "['Unnamed: 0',\n",
       " '001d365f522cb84c02010603020db10f160db1',\n",
       " '001d365f522cb84c02010603020db10f160db1333e15dd4cb82c525f36b00075e3',\n",
       " '001d416a122cb84c02010603020db10f16',\n",
       " '001dd5b22f2cb84c02010603020db10f160db1',\n",
       " '001df972322cb84c02010603020d',\n",
       " '0024365f522cb84c0201061aff4c00021534b000dd353540769f',\n",
       " '0024d5b22f2cb84c0201',\n",
       " '0024d5b22f2cb84c0201061aff4c000215340100dd353540769f89',\n",
       " '0024ef41242cb84c0201061aff4c000215353e15dd',\n",
       " '0024f972322cb84c0201061aff4c000215340100dd353540769f8925d62271',\n",
       " '0024f972322cb84c0201061aff4c000215340100dd353540769f8925d62271ad95322c',\n",
       " '0024f972322cb84c0201061aff4c000215340100dd353540769f8925d62271ad95322cf972c5a4',\n",
       " '0024f972322cb84c0201c6e80c4bc6e29d2ab1aa52734c4d',\n",
       " '00253441242cb84c0201061bffffdc8f',\n",
       " '0025a853522cb84c0201061bffff7946',\n",
       " '0025feb9202cb84c0201061bffffadabb64a5d3466cb3c0aa769a831325583e9d3c977',\n",
       " '021d95ae2f2cb84c02010603020db10f160db1333e15dd4cb8',\n",
       " '0224a853522cb84c0201',\n",
       " '0224a853522cb84c0201041a',\n",
       " '0224a853522cb84c0201041aff4c00',\n",
       " '0224a853522cb84c0201041aff4c00021537',\n",
       " '0224a853522cb84c0201041aff4c00021537e3',\n",
       " '0224a853522cb84c0201041aff4c00021537e3c199e7444f8eaafc',\n",
       " '0224a853522cb84c0201041aff4c00021537e3c199e7444f8eaafc9d12e0398c',\n",
       " '0224a853522cb84c0201041aff4c00021537e3c199e7444f8eaafc9d12e0398c92',\n",
       " '0224a853522cb84c0201041aff4c00021537e3c199e7444f8eaafc9d12e0398c92522c',\n",
       " '0224a853522cb84c0201041aff4c00027a25a5',\n",
       " '0225a853522cb84c0201',\n",
       " '0225a853522cb84c0201041bffff794698e29975bbc55fe69c525f7dea']"
      ]
     },
     "execution_count": 27,
     "metadata": {},
     "output_type": "execute_result"
    }
   ],
   "source": [
    "list(df)"
   ]
  },
  {
   "cell_type": "code",
   "execution_count": 8,
   "metadata": {},
   "outputs": [],
   "source": [
    "from  bitstring import BitArray\n",
    "def hex_to_binary(_hex):\n",
    "    bin_obj = BitArray(hex = _hex);\n",
    "    return bin_obj.bin;\n",
    "def bin_reverse(_hex):\n",
    "    return \n",
    "def _search(data,target):\n",
    "    #hex to bits\n",
    "    target_bits = hex_to_binary(target);\n",
    "    data_bits = hex_to_binary(data);\n",
    "    if len(data)%2!=0:\n",
    "        data_bits = hex_to_binary(data[0:-1])\n",
    "    \n",
    "    #check inclusion\n",
    "    return target_bits in data_bits or target_bits in data_bits[::-1]"
   ]
  },
  {
   "cell_type": "code",
   "execution_count": 15,
   "metadata": {},
   "outputs": [
    {
     "name": "stdout",
     "output_type": "stream",
     "text": [
      "data: 001df972322cb84c02010603020db10f160db1333e15dd4cb82c3272f90100\n"
     ]
    }
   ],
   "source": [
    "target = \"2c3272f9\"\n",
    "for data in list(df)[1:]:\n",
    "    \n",
    "    if _search(data,target):\n",
    "        print \"data:\",data"
   ]
  },
  {
   "cell_type": "code",
   "execution_count": 10,
   "metadata": {},
   "outputs": [
    {
     "data": {
      "text/plain": [
       "'010000000001010001011111110011000000001000010100010110010100011100000010000000010001101000001010111111110100110000000000'"
      ]
     },
     "execution_count": 10,
     "metadata": {},
     "output_type": "execute_result"
    }
   ],
   "source": [
    "hex_to_binary('40145fcc0214594702011a0aff4c00')"
   ]
  },
  {
   "cell_type": "code",
   "execution_count": 29,
   "metadata": {},
   "outputs": [
    {
     "data": {
      "text/plain": [
       "52"
      ]
     },
     "execution_count": 29,
     "metadata": {},
     "output_type": "execute_result"
    }
   ],
   "source": [
    "d = \"0024be40242cb84c0201061aff4c00021537e3c299a7444f8eaa\"\n",
    "len(d)"
   ]
  },
  {
   "cell_type": "code",
   "execution_count": null,
   "metadata": {},
   "outputs": [],
   "source": []
  }
 ],
 "metadata": {
  "kernelspec": {
   "display_name": "Python 2",
   "language": "python",
   "name": "python2"
  },
  "language_info": {
   "codemirror_mode": {
    "name": "ipython",
    "version": 2
   },
   "file_extension": ".py",
   "mimetype": "text/x-python",
   "name": "python",
   "nbconvert_exporter": "python",
   "pygments_lexer": "ipython2",
   "version": "2.7.15"
  }
 },
 "nbformat": 4,
 "nbformat_minor": 2
}
