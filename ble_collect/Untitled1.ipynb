{
 "cells": [
  {
   "cell_type": "code",
   "execution_count": 26,
   "metadata": {},
   "outputs": [],
   "source": [
    "import pandas as pd\n",
    "df=pd.read_csv(\"rejected_data1.csv\")"
   ]
  },
  {
   "cell_type": "code",
   "execution_count": 27,
   "metadata": {},
   "outputs": [
    {
     "data": {
      "text/plain": [
       "['Unnamed: 0',\n",
       " '001d365f522cb84c02010603020db10f160db1',\n",
       " '001d365f522cb84c02010603020db10f160db1333e15dd4cb82c525f36b00075e3',\n",
       " '001d416a122cb84c02010603020db10f16',\n",
       " '001dd5b22f2cb84c02010603020db10f160db1',\n",
       " '001df972322cb84c02010603020d',\n",
       " '0024365f522cb84c0201061aff4c00021534b000dd353540769f',\n",
       " '0024d5b22f2cb84c0201',\n",
       " '0024d5b22f2cb84c0201061aff4c000215340100dd353540769f89',\n",
       " '0024ef41242cb84c0201061aff4c000215353e15dd',\n",
       " '0024f972322cb84c0201061aff4c000215340100dd353540769f8925d62271',\n",
       " '0024f972322cb84c0201061aff4c000215340100dd353540769f8925d62271ad95322c',\n",
       " '0024f972322cb84c0201061aff4c000215340100dd353540769f8925d62271ad95322cf972c5a4',\n",
       " '0024f972322cb84c0201c6e80c4bc6e29d2ab1aa52734c4d',\n",
       " '00253441242cb84c0201061bffffdc8f',\n",
       " '0025a853522cb84c0201061bffff7946',\n",
       " '0025feb9202cb84c0201061bffffadabb64a5d3466cb3c0aa769a831325583e9d3c977',\n",
       " '021d95ae2f2cb84c02010603020db10f160db1333e15dd4cb8',\n",
       " '0224a853522cb84c0201',\n",
       " '0224a853522cb84c0201041a',\n",
       " '0224a853522cb84c0201041aff4c00',\n",
       " '0224a853522cb84c0201041aff4c00021537',\n",
       " '0224a853522cb84c0201041aff4c00021537e3',\n",
       " '0224a853522cb84c0201041aff4c00021537e3c199e7444f8eaafc',\n",
       " '0224a853522cb84c0201041aff4c00021537e3c199e7444f8eaafc9d12e0398c',\n",
       " '0224a853522cb84c0201041aff4c00021537e3c199e7444f8eaafc9d12e0398c92',\n",
       " '0224a853522cb84c0201041aff4c00021537e3c199e7444f8eaafc9d12e0398c92522c',\n",
       " '0224a853522cb84c0201041aff4c00027a25a5',\n",
       " '0225a853522cb84c0201',\n",
       " '0225a853522cb84c0201041bffff794698e29975bbc55fe69c525f7dea']"
      ]
     },
     "execution_count": 27,
     "metadata": {},
     "output_type": "execute_result"
    }
   ],
   "source": [
    "list(df)"
   ]
  },
  {
   "cell_type": "code",
   "execution_count": 8,
   "metadata": {},
   "outputs": [],
   "source": [
    "from  bitstring import BitArray\n",
    "def hex_to_binary(_hex):\n",
    "    bin_obj = BitArray(hex = _hex);\n",
    "    return bin_obj.bin;\n",
    "def bin_reverse(_hex):\n",
    "    return \n",
    "def _search(data,target):\n",
    "    #hex to bits\n",
    "    target_bits = hex_to_binary(target);\n",
    "    data_bits = hex_to_binary(data);\n",
    "    if len(data)%2!=0:\n",
    "        data_bits = hex_to_binary(data[0:-1])\n",
    "    \n",
    "    #check inclusion\n",
    "    return target_bits in data_bits or target_bits in data_bits[::-1]"
   ]
  },
  {
   "cell_type": "code",
   "execution_count": 15,
   "metadata": {},
   "outputs": [
    {
     "name": "stdout",
     "output_type": "stream",
     "text": [
      "data: 001df972322cb84c02010603020db10f160db1333e15dd4cb82c3272f90100\n"
     ]
    }
   ],
   "source": [
    "target = \"2c3272f9\"\n",
    "for data in list(df)[1:]:\n",
    "    \n",
    "    if _search(data,target):\n",
    "        print \"data:\",data"
   ]
  },
  {
   "cell_type": "code",
   "execution_count": 10,
   "metadata": {},
   "outputs": [
    {
     "data": {
      "text/plain": [
       "'010000000001010001011111110011000000001000010100010110010100011100000010000000010001101000001010111111110100110000000000'"
      ]
     },
     "execution_count": 10,
     "metadata": {},
     "output_type": "execute_result"
    }
   ],
   "source": [
    "hex_to_binary('40145fcc0214594702011a0aff4c00')"
   ]
  },
  {
   "cell_type": "code",
   "execution_count": 29,
   "metadata": {},
   "outputs": [
    {
     "data": {
      "text/plain": [
       "52"
      ]
     },
     "execution_count": 29,
     "metadata": {},
     "output_type": "execute_result"
    }
   ],
   "source": [
    "d = \"0024be40242cb84c0201061aff4c00021537e3c299a7444f8eaa\"\n",
    "len(d)"
   ]
  },
  {
   "cell_type": "code",
   "execution_count": 2,
   "metadata": {},
   "outputs": [
    {
     "name": "stdout",
     "output_type": "stream",
     "text": [
      "detection: 151 expected: 152 index: 0\n",
      "detection: 92 expected: 152 index: 1\n",
      "detection: 100 expected: 152 index: 2\n",
      "detection: 102 expected: 152 index: 3\n",
      "detection: 102 expected: 152 index: 4\n",
      "detection: 96 expected: 152 index: 5\n",
      "detection: 99 expected: 152 index: 6\n",
      "detection: 110 expected: 152 index: 7\n",
      "detection: 100 expected: 152 index: 8\n",
      "detection: 99 expected: 152 index: 9\n",
      "detection: 101 expected: 152 index: 10\n",
      "detection: 94 expected: 152 index: 11\n",
      "detection: 102 expected: 152 index: 12\n",
      "detection: 97 expected: 152 index: 13\n",
      "detection: 100 expected: 152 index: 14\n",
      "detection: 92 expected: 152 index: 15\n",
      "detection: 101 expected: 152 index: 16\n",
      "detection: 99 expected: 152 index: 17\n",
      "detection: 98 expected: 152 index: 18\n",
      "detection: 98 expected: 152 index: 19\n",
      "detection: 105 expected: 152 index: 20\n",
      "detection: 104 expected: 152 index: 21\n",
      "detection: 93 expected: 152 index: 22\n",
      "detection: 103 expected: 152 index: 23\n",
      "detection: 108 expected: 152 index: 24\n",
      "detection: 98 expected: 152 index: 25\n",
      "detection: 97 expected: 152 index: 26\n",
      "detection: 101 expected: 152 index: 27\n",
      "detection: 102 expected: 152 index: 28\n",
      "detection: 103 expected: 152 index: 29\n",
      "detection: 108 expected: 152 index: 30\n",
      "detection: 101 expected: 152 index: 31\n",
      "detection: 99 expected: 152 index: 32\n",
      "detection: 98 expected: 152 index: 33\n",
      "detection: 98 expected: 152 index: 34\n",
      "detection: 89 expected: 152 index: 35\n",
      "detection: 104 expected: 152 index: 36\n",
      "detection: 99 expected: 152 index: 37\n",
      "detection: 104 expected: 152 index: 38\n",
      "detection: 99 expected: 152 index: 39\n",
      "detection: 95 expected: 152 index: 40\n",
      "detection: 96 expected: 152 index: 41\n",
      "detection: 99 expected: 152 index: 42\n",
      "detection: 104 expected: 152 index: 43\n",
      "detection: 90 expected: 152 index: 44\n",
      "detection: 100 expected: 152 index: 45\n",
      "detection: 103 expected: 152 index: 46\n",
      "detection: 97 expected: 152 index: 47\n",
      "detection: 102 expected: 152 index: 48\n",
      "detection: 99 expected: 152 index: 49\n",
      "detection: 111 expected: 152 index: 50\n",
      "detection: 99 expected: 152 index: 51\n",
      "detection: 98 expected: 152 index: 52\n",
      "detection: 97 expected: 152 index: 53\n",
      "detection: 95 expected: 152 index: 54\n",
      "detection: 109 expected: 152 index: 55\n",
      "detection: 95 expected: 152 index: 56\n",
      "detection: 101 expected: 152 index: 57\n",
      "detection: 105 expected: 152 index: 58\n",
      "detection: 107 expected: 152 index: 59\n",
      "detection: 100 expected: 152 index: 60\n",
      "detection: 94 expected: 152 index: 61\n",
      "detection: 101 expected: 152 index: 62\n",
      "detection: 89 expected: 152 index: 63\n",
      "detection: 100 expected: 152 index: 64\n",
      "detection: 99 expected: 152 index: 65\n",
      "detection: 101 expected: 152 index: 66\n",
      "detection: 94 expected: 152 index: 67\n",
      "detection: 105 expected: 152 index: 68\n",
      "detection: 103 expected: 152 index: 69\n",
      "detection: 101 expected: 152 index: 70\n",
      "detection: 98 expected: 152 index: 71\n",
      "detection: 101 expected: 152 index: 72\n",
      "detection: 98 expected: 152 index: 73\n",
      "detection: 99 expected: 152 index: 74\n",
      "detection: 106 expected: 152 index: 75\n",
      "detection: 100 expected: 152 index: 76\n",
      "detection: 104 expected: 152 index: 77\n",
      "detection: 104 expected: 152 index: 78\n",
      "detection: 96 expected: 152 index: 79\n",
      "detection: 99 expected: 152 index: 80\n",
      "detection: 101 expected: 152 index: 81\n",
      "detection: 100 expected: 152 index: 82\n",
      "detection: 106 expected: 152 index: 83\n",
      "detection: 99 expected: 152 index: 84\n",
      "detection: 96 expected: 152 index: 85\n",
      "detection: 103 expected: 152 index: 86\n",
      "detection: 106 expected: 152 index: 87\n",
      "detection: 100 expected: 152 index: 88\n",
      "detection: 104 expected: 152 index: 89\n",
      "detection: 95 expected: 152 index: 90\n",
      "detection: 100 expected: 152 index: 91\n",
      "detection: 99 expected: 152 index: 92\n",
      "detection: 101 expected: 152 index: 93\n",
      "detection: 97 expected: 152 index: 94\n",
      "detection: 101 expected: 152 index: 95\n",
      "detection: 111 expected: 152 index: 96\n",
      "detection: 89 expected: 152 index: 97\n",
      "detection: 108 expected: 152 index: 98\n",
      "detection: 95 expected: 152 index: 99\n",
      "detection: 100 expected: 152 index: 100\n",
      "detection: 101 expected: 152 index: 101\n",
      "detection: 92 expected: 152 index: 102\n",
      "detection: 91 expected: 152 index: 103\n",
      "detection: 101 expected: 152 index: 104\n",
      "detection: 107 expected: 152 index: 105\n",
      "detection: 105 expected: 152 index: 106\n",
      "detection: 98 expected: 152 index: 107\n",
      "detection: 106 expected: 152 index: 108\n",
      "detection: 95 expected: 152 index: 109\n",
      "detection: 98 expected: 152 index: 110\n",
      "detection: 99 expected: 152 index: 111\n",
      "detection: 94 expected: 152 index: 112\n",
      "detection: 103 expected: 152 index: 113\n",
      "detection: 104 expected: 152 index: 114\n",
      "detection: 96 expected: 152 index: 115\n",
      "detection: 105 expected: 152 index: 116\n",
      "detection: 93 expected: 152 index: 117\n",
      "detection: 104 expected: 152 index: 118\n",
      "detection: 96 expected: 152 index: 119\n",
      "detection: 93 expected: 152 index: 120\n",
      "detection: 103 expected: 152 index: 121\n",
      "detection: 91 expected: 152 index: 122\n",
      "detection: 96 expected: 152 index: 123\n",
      "detection: 100 expected: 152 index: 124\n",
      "detection: 98 expected: 152 index: 125\n",
      "detection: 107 expected: 152 index: 126\n",
      "detection: 97 expected: 152 index: 127\n",
      "detection: 102 expected: 152 index: 128\n",
      "detection: 99 expected: 152 index: 129\n",
      "detection: 97 expected: 152 index: 130\n",
      "detection: 98 expected: 152 index: 131\n",
      "detection: 96 expected: 152 index: 132\n",
      "detection: 99 expected: 152 index: 133\n",
      "detection: 105 expected: 152 index: 134\n",
      "detection: 105 expected: 152 index: 135\n",
      "detection: 103 expected: 152 index: 136\n",
      "detection: 105 expected: 152 index: 137\n",
      "detection: 99 expected: 152 index: 138\n",
      "detection: 99 expected: 152 index: 139\n",
      "detection: 94 expected: 152 index: 140\n",
      "detection: 99 expected: 152 index: 141\n",
      "detection: 100 expected: 152 index: 142\n",
      "detection: 100 expected: 152 index: 143\n",
      "detection: 108 expected: 152 index: 144\n",
      "detection: 96 expected: 152 index: 145\n",
      "detection: 96 expected: 152 index: 146\n",
      "detection: 99 expected: 152 index: 147\n",
      "detection: 100 expected: 152 index: 148\n",
      "detection: 94 expected: 152 index: 149\n",
      "detection: 87 expected: 152 index: 150\n",
      "detection: 98 expected: 152 index: 151\n",
      "detection: 98 expected: 152 index: 152\n",
      "detection: 93 expected: 152 index: 153\n",
      "detection: 109 expected: 152 index: 154\n",
      "detection: 101 expected: 152 index: 155\n",
      "detection: 102 expected: 152 index: 156\n",
      "detection: 98 expected: 152 index: 157\n",
      "detection: 98 expected: 152 index: 158\n",
      "detection: 96 expected: 152 index: 159\n",
      "detection: 104 expected: 152 index: 160\n",
      "detection: 97 expected: 152 index: 161\n",
      "detection: 99 expected: 152 index: 162\n",
      "detection: 96 expected: 152 index: 163\n",
      "detection: 118 expected: 152 index: 164\n",
      "detection: 98 expected: 152 index: 165\n",
      "detection: 98 expected: 152 index: 166\n",
      "detection: 100 expected: 152 index: 167\n",
      "detection: 102 expected: 152 index: 168\n",
      "detection: 96 expected: 152 index: 169\n",
      "detection: 97 expected: 152 index: 170\n",
      "detection: 103 expected: 152 index: 171\n",
      "detection: 101 expected: 152 index: 172\n",
      "detection: 100 expected: 152 index: 173\n",
      "detection: 99 expected: 152 index: 174\n",
      "detection: 97 expected: 152 index: 175\n",
      "detection: 108 expected: 152 index: 176\n",
      "detection: 91 expected: 152 index: 177\n",
      "detection: 102 expected: 152 index: 178\n",
      "detection: 96 expected: 152 index: 179\n",
      "detection: 104 expected: 152 index: 180\n",
      "detection: 97 expected: 152 index: 181\n",
      "detection: 106 expected: 152 index: 182\n",
      "detection: 98 expected: 152 index: 183\n",
      "detection: 96 expected: 152 index: 184\n",
      "detection: 102 expected: 152 index: 185\n",
      "detection: 96 expected: 152 index: 186\n",
      "detection: 98 expected: 152 index: 187\n",
      "detection: 105 expected: 152 index: 188\n",
      "detection: 98 expected: 152 index: 189\n",
      "detection: 96 expected: 152 index: 190\n",
      "detection: 102 expected: 152 index: 191\n",
      "detection: 103 expected: 152 index: 192\n",
      "detection: 104 expected: 152 index: 193\n",
      "detection: 98 expected: 152 index: 194\n",
      "detection: 101 expected: 152 index: 195\n",
      "detection: 101 expected: 152 index: 196\n",
      "detection: 96 expected: 152 index: 197\n",
      "detection: 104 expected: 152 index: 198\n",
      "detection: 96 expected: 152 index: 199\n",
      "detection: 103 expected: 152 index: 200\n",
      "detection: 99 expected: 152 index: 201\n",
      "detection: 104 expected: 152 index: 202\n",
      "detection: 102 expected: 152 index: 203\n",
      "detection: 97 expected: 152 index: 204\n",
      "detection: 99 expected: 152 index: 205\n",
      "detection: 100 expected: 152 index: 206\n",
      "detection: 101 expected: 152 index: 207\n",
      "detection: 88 expected: 152 index: 208\n",
      "detection: 103 expected: 152 index: 209\n",
      "detection: 102 expected: 152 index: 210\n",
      "detection: 99 expected: 152 index: 211\n",
      "detection: 102 expected: 152 index: 212\n",
      "detection: 96 expected: 152 index: 213\n",
      "detection: 104 expected: 152 index: 214\n",
      "detection: 99 expected: 152 index: 215\n",
      "detection: 96 expected: 152 index: 216\n",
      "detection: 99 expected: 152 index: 217\n",
      "detection: 96 expected: 152 index: 218\n",
      "detection: 112 expected: 152 index: 219\n",
      "detection: 97 expected: 152 index: 220\n",
      "detection: 107 expected: 152 index: 221\n",
      "detection: 100 expected: 152 index: 222\n",
      "detection: 103 expected: 152 index: 223\n",
      "detection: 102 expected: 152 index: 224\n",
      "detection: 96 expected: 152 index: 225\n",
      "detection: 100 expected: 152 index: 226\n",
      "detection: 94 expected: 152 index: 227\n",
      "detection: 104 expected: 152 index: 228\n",
      "detection: 104 expected: 152 index: 229\n",
      "detection: 100 expected: 152 index: 230\n",
      "detection: 97 expected: 152 index: 231\n",
      "detection: 101 expected: 152 index: 232\n",
      "detection: 100 expected: 152 index: 233\n",
      "detection: 99 expected: 152 index: 234\n",
      "detection: 95 expected: 152 index: 235\n",
      "detection: 102 expected: 152 index: 236\n",
      "detection: 98 expected: 152 index: 237\n",
      "detection: 102 expected: 152 index: 238\n",
      "detection: 100 expected: 152 index: 239\n",
      "detection: 100 expected: 152 index: 240\n",
      "detection: 104 expected: 152 index: 241\n",
      "detection: 102 expected: 152 index: 242\n",
      "detection: 96 expected: 152 index: 243\n",
      "detection: 95 expected: 152 index: 244\n",
      "detection: 104 expected: 152 index: 245\n",
      "detection: 99 expected: 152 index: 246\n"
     ]
    },
    {
     "name": "stdout",
     "output_type": "stream",
     "text": [
      "detection: 99 expected: 152 index: 247\n",
      "detection: 102 expected: 152 index: 248\n",
      "detection: 102 expected: 152 index: 249\n",
      "detection: 104 expected: 152 index: 250\n",
      "detection: 100 expected: 152 index: 251\n",
      "detection: 102 expected: 152 index: 252\n",
      "detection: 102 expected: 152 index: 253\n",
      "detection: 102 expected: 152 index: 254\n",
      "detection: 102 expected: 152 index: 255\n",
      "detection: 103 expected: 152 index: 256\n",
      "detection: 102 expected: 152 index: 257\n",
      "detection: 102 expected: 152 index: 258\n",
      "detection: 101 expected: 152 index: 259\n",
      "detection: 102 expected: 152 index: 260\n",
      "{151: [0], 87: [150], 88: [208], 89: [35, 63, 97], 90: [44], 91: [103, 122, 177], 92: [1, 15, 102], 93: [22, 117, 120, 153], 94: [11, 61, 67, 112, 140, 149, 227], 95: [40, 54, 56, 90, 99, 109, 235, 244], 96: [5, 41, 79, 85, 115, 119, 123, 132, 145, 146, 159, 163, 169, 179, 184, 186, 190, 197, 199, 213, 216, 218, 225, 243], 97: [13, 26, 47, 53, 94, 127, 130, 161, 170, 175, 181, 204, 220, 231], 98: [18, 19, 25, 33, 34, 52, 71, 73, 107, 110, 125, 131, 151, 152, 157, 158, 165, 166, 183, 187, 189, 194, 237], 99: [6, 9, 17, 32, 37, 39, 42, 49, 51, 65, 74, 80, 84, 92, 111, 129, 133, 138, 139, 141, 147, 162, 174, 201, 205, 211, 215, 217, 234, 246, 247], 100: [2, 8, 14, 45, 60, 64, 76, 82, 88, 91, 100, 124, 142, 143, 148, 167, 173, 206, 222, 226, 230, 233, 239, 240, 251], 101: [10, 16, 27, 31, 57, 62, 66, 70, 72, 81, 93, 95, 101, 104, 155, 172, 195, 196, 207, 232, 259], 102: [3, 4, 12, 28, 48, 128, 156, 168, 178, 185, 191, 203, 210, 212, 224, 236, 238, 242, 248, 249, 252, 253, 254, 255, 257, 258, 260], 103: [23, 29, 46, 69, 86, 113, 121, 136, 171, 192, 200, 209, 223, 256], 104: [21, 36, 38, 43, 77, 78, 89, 114, 118, 160, 180, 193, 198, 202, 214, 228, 229, 241, 245, 250], 105: [20, 58, 68, 106, 116, 134, 135, 137, 188], 106: [75, 83, 87, 108, 182], 107: [59, 105, 126, 221], 108: [24, 30, 98, 144, 176], 109: [55, 154], 110: [7], 111: [50, 96], 112: [219], 118: [164]}\n"
     ]
    }
   ],
   "source": [
    "from ble_dump_utils import *\n",
    "#SEARCH_PACKET = [\"aad6be898e95c9\",\"b2647e33cce2\",\"f4e48b6ec302\"]\n",
    "SEARCH_PACKET = [\"aad6be898ed5c9\",\"7366a2569b0b\",\"f4e48b6ec302\"]\n",
    "conv = Convolution(target = \"\", gr_buffer=\"\");\n",
    "conv.target_vect = BitArray(\"0xaad6be898e95c9b2647e33cce2f4e48b6ec302\").bin\n",
    "conv.n = len(conv.target_vect)\n",
    "conv.search_vect = BitArray(\"0xaad6be898e95c994a66f131beaf4e48b6ec3024c3907aae898e95c994a66f131beaf4e48b6ec3\").bin\n",
    "conv.convolve(structured=True)\n",
    "print conv.conv_map"
   ]
  },
  {
   "cell_type": "code",
   "execution_count": 1,
   "metadata": {},
   "outputs": [
    {
     "ename": "NameError",
     "evalue": "name 'conv' is not defined",
     "output_type": "error",
     "traceback": [
      "\u001b[0;31m---------------------------------------------------------------------------\u001b[0m",
      "\u001b[0;31mNameError\u001b[0m                                 Traceback (most recent call last)",
      "\u001b[0;32m<ipython-input-1-9df5faaa015f>\u001b[0m in \u001b[0;36m<module>\u001b[0;34m()\u001b[0m\n\u001b[0;32m----> 1\u001b[0;31m \u001b[0mconv\u001b[0m\u001b[0;34m.\u001b[0m\u001b[0minfo\u001b[0m\u001b[0;34m(\u001b[0m\u001b[0;34m)\u001b[0m\u001b[0;34m\u001b[0m\u001b[0m\n\u001b[0m",
      "\u001b[0;31mNameError\u001b[0m: name 'conv' is not defined"
     ]
    }
   ],
   "source": [
    "conv.info()"
   ]
  },
  {
   "cell_type": "code",
   "execution_count": 2,
   "metadata": {},
   "outputs": [],
   "source": [
    "from  bitstring import BitArray\n",
    "import binascii"
   ]
  },
  {
   "cell_type": "code",
   "execution_count": 5,
   "metadata": {},
   "outputs": [],
   "source": [
    "def compute_dist(s1,s2):\n",
    "    return bin(int(s1,16)^int(s2,16)).count('1')"
   ]
  },
  {
   "cell_type": "code",
   "execution_count": 12,
   "metadata": {},
   "outputs": [
    {
     "data": {
      "text/plain": [
       "3"
      ]
     },
     "execution_count": 12,
     "metadata": {},
     "output_type": "execute_result"
    }
   ],
   "source": [
    "compute_dist('0','b')"
   ]
  },
  {
   "cell_type": "code",
   "execution_count": null,
   "metadata": {},
   "outputs": [],
   "source": []
  }
 ],
 "metadata": {
  "kernelspec": {
   "display_name": "Python 2",
   "language": "python",
   "name": "python2"
  },
  "language_info": {
   "codemirror_mode": {
    "name": "ipython",
    "version": 2
   },
   "file_extension": ".py",
   "mimetype": "text/x-python",
   "name": "python",
   "nbconvert_exporter": "python",
   "pygments_lexer": "ipython2",
   "version": "2.7.15"
  }
 },
 "nbformat": 4,
 "nbformat_minor": 2
}
